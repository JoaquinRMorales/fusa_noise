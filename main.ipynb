{
 "cells": [
  {
   "cell_type": "code",
   "execution_count": 1,
   "id": "23270b57",
   "metadata": {},
   "outputs": [],
   "source": [
    "import sys\n",
    "import os\n",
    "\n",
    "modules_route = str(os.getcwd()).replace(\"\\\\\", \"/\")+\"/Modules/\"\n",
    "sys.path.insert(0, modules_route)\n",
    "\n",
    "import waver as wv\n",
    "import WavePlotter as wp\n",
    "import WaveUmaper as wu"
   ]
  },
  {
   "cell_type": "code",
   "execution_count": 4,
   "id": "79cfb2e1",
   "metadata": {
    "scrolled": false
   },
   "outputs": [
    {
     "data": {
      "text/html": [
       "<div>\n",
       "<style scoped>\n",
       "    .dataframe tbody tr th:only-of-type {\n",
       "        vertical-align: middle;\n",
       "    }\n",
       "\n",
       "    .dataframe tbody tr th {\n",
       "        vertical-align: top;\n",
       "    }\n",
       "\n",
       "    .dataframe thead th {\n",
       "        text-align: right;\n",
       "    }\n",
       "</style>\n",
       "<table border=\"1\" class=\"dataframe\">\n",
       "  <thead>\n",
       "    <tr style=\"text-align: right;\">\n",
       "      <th></th>\n",
       "      <th>filename</th>\n",
       "      <th>start</th>\n",
       "      <th>end</th>\n",
       "      <th>label</th>\n",
       "      <th>station</th>\n",
       "      <th>labeller</th>\n",
       "    </tr>\n",
       "  </thead>\n",
       "  <tbody>\n",
       "    <tr>\n",
       "      <th>0</th>\n",
       "      <td>1654237560_1654237620.wav</td>\n",
       "      <td>0.338028</td>\n",
       "      <td>4.225351</td>\n",
       "      <td>dog</td>\n",
       "      <td>capta_002</td>\n",
       "      <td>Cristian_C</td>\n",
       "    </tr>\n",
       "    <tr>\n",
       "      <th>1</th>\n",
       "      <td>1654237560_1654237620.wav</td>\n",
       "      <td>5.915491</td>\n",
       "      <td>12.591545</td>\n",
       "      <td>dog</td>\n",
       "      <td>capta_002</td>\n",
       "      <td>Cristian_C</td>\n",
       "    </tr>\n",
       "    <tr>\n",
       "      <th>2</th>\n",
       "      <td>1654237560_1654237620.wav</td>\n",
       "      <td>15.211262</td>\n",
       "      <td>18.422528</td>\n",
       "      <td>dog</td>\n",
       "      <td>capta_002</td>\n",
       "      <td>Cristian_C</td>\n",
       "    </tr>\n",
       "    <tr>\n",
       "      <th>3</th>\n",
       "      <td>1654237560_1654237620.wav</td>\n",
       "      <td>19.436612</td>\n",
       "      <td>28.478862</td>\n",
       "      <td>dog</td>\n",
       "      <td>capta_002</td>\n",
       "      <td>Cristian_C</td>\n",
       "    </tr>\n",
       "    <tr>\n",
       "      <th>4</th>\n",
       "      <td>1654237560_1654237620.wav</td>\n",
       "      <td>31.605622</td>\n",
       "      <td>39.971816</td>\n",
       "      <td>dog</td>\n",
       "      <td>capta_002</td>\n",
       "      <td>Cristian_C</td>\n",
       "    </tr>\n",
       "    <tr>\n",
       "      <th>...</th>\n",
       "      <td>...</td>\n",
       "      <td>...</td>\n",
       "      <td>...</td>\n",
       "      <td>...</td>\n",
       "      <td>...</td>\n",
       "      <td>...</td>\n",
       "    </tr>\n",
       "    <tr>\n",
       "      <th>24386</th>\n",
       "      <td>62f8c4dcff16b865defa12e7.wav</td>\n",
       "      <td>37.364771</td>\n",
       "      <td>39.528433</td>\n",
       "      <td>shouting</td>\n",
       "      <td>capta_002</td>\n",
       "      <td>Esteban_V</td>\n",
       "    </tr>\n",
       "    <tr>\n",
       "      <th>24387</th>\n",
       "      <td>62f8c4dcff16b865defa12e7.wav</td>\n",
       "      <td>45.104022</td>\n",
       "      <td>47.434119</td>\n",
       "      <td>talk</td>\n",
       "      <td>capta_002</td>\n",
       "      <td>Esteban_V</td>\n",
       "    </tr>\n",
       "    <tr>\n",
       "      <th>24388</th>\n",
       "      <td>62f8c4dcff16b865defa12e7.wav</td>\n",
       "      <td>54.018719</td>\n",
       "      <td>59.934078</td>\n",
       "      <td>car_moving</td>\n",
       "      <td>capta_002</td>\n",
       "      <td>Esteban_V</td>\n",
       "    </tr>\n",
       "    <tr>\n",
       "      <th>24389</th>\n",
       "      <td>62f8c4dcff16b865defa12e7.wav</td>\n",
       "      <td>0.000000</td>\n",
       "      <td>7.209613</td>\n",
       "      <td>car_moving</td>\n",
       "      <td>capta_002</td>\n",
       "      <td>Esteban_V</td>\n",
       "    </tr>\n",
       "    <tr>\n",
       "      <th>24390</th>\n",
       "      <td>62f8c4dcff16b865defa12e7.wav</td>\n",
       "      <td>10.253672</td>\n",
       "      <td>10.974633</td>\n",
       "      <td>alarm</td>\n",
       "      <td>capta_002</td>\n",
       "      <td>Esteban_V</td>\n",
       "    </tr>\n",
       "  </tbody>\n",
       "</table>\n",
       "<p>24391 rows × 6 columns</p>\n",
       "</div>"
      ],
      "text/plain": [
       "                           filename      start        end       label  \\\n",
       "0         1654237560_1654237620.wav   0.338028   4.225351         dog   \n",
       "1         1654237560_1654237620.wav   5.915491  12.591545         dog   \n",
       "2         1654237560_1654237620.wav  15.211262  18.422528         dog   \n",
       "3         1654237560_1654237620.wav  19.436612  28.478862         dog   \n",
       "4         1654237560_1654237620.wav  31.605622  39.971816         dog   \n",
       "...                             ...        ...        ...         ...   \n",
       "24386  62f8c4dcff16b865defa12e7.wav  37.364771  39.528433    shouting   \n",
       "24387  62f8c4dcff16b865defa12e7.wav  45.104022  47.434119        talk   \n",
       "24388  62f8c4dcff16b865defa12e7.wav  54.018719  59.934078  car_moving   \n",
       "24389  62f8c4dcff16b865defa12e7.wav   0.000000   7.209613  car_moving   \n",
       "24390  62f8c4dcff16b865defa12e7.wav  10.253672  10.974633       alarm   \n",
       "\n",
       "         station    labeller  \n",
       "0      capta_002  Cristian_C  \n",
       "1      capta_002  Cristian_C  \n",
       "2      capta_002  Cristian_C  \n",
       "3      capta_002  Cristian_C  \n",
       "4      capta_002  Cristian_C  \n",
       "...          ...         ...  \n",
       "24386  capta_002   Esteban_V  \n",
       "24387  capta_002   Esteban_V  \n",
       "24388  capta_002   Esteban_V  \n",
       "24389  capta_002   Esteban_V  \n",
       "24390  capta_002   Esteban_V  \n",
       "\n",
       "[24391 rows x 6 columns]"
      ]
     },
     "execution_count": 4,
     "metadata": {},
     "output_type": "execute_result"
    }
   ],
   "source": [
    "#Create a class Wavs, will ask for a dataframe in txt forman with 'space' separation\n",
    "wavs = wv.Wavs()\n",
    "wavs.metadata"
   ]
  },
  {
   "cell_type": "code",
   "execution_count": 5,
   "id": "11a31e77",
   "metadata": {
    "collapsed": true
   },
   "outputs": [
    {
     "name": "stdout",
     "output_type": "stream",
     "text": [
      "bird folder is being classified\n",
      "1180 / 3177\n",
      "Ignored audios [threshold = 0.500000 sec]: 95\n",
      "Unexpected exception formatting exception. Falling back to standard exception\n"
     ]
    },
    {
     "name": "stderr",
     "output_type": "stream",
     "text": [
      "Traceback (most recent call last):\n",
      "  File \"Z:\\Anaconda\\envs\\fusa-training\\lib\\site-packages\\IPython\\core\\interactiveshell.py\", line 3433, in run_code\n",
      "    exec(code_obj, self.user_global_ns, self.user_ns)\n",
      "  File \"C:\\Users\\jrmor\\AppData\\Local\\Temp\\ipykernel_684\\1633110514.py\", line 9, in <module>\n",
      "    wavs.classifier(0.5)\n",
      "  File \"Z:\\Proyectos/fusa-training/Modules\\waver.py\", line 92, in classifier\n",
      "KeyboardInterrupt\n",
      "\n",
      "During handling of the above exception, another exception occurred:\n",
      "\n",
      "Traceback (most recent call last):\n",
      "  File \"Z:\\Anaconda\\envs\\fusa-training\\lib\\site-packages\\IPython\\core\\interactiveshell.py\", line 2052, in showtraceback\n",
      "    stb = self.InteractiveTB.structured_traceback(\n",
      "  File \"Z:\\Anaconda\\envs\\fusa-training\\lib\\site-packages\\IPython\\core\\ultratb.py\", line 1118, in structured_traceback\n",
      "    return FormattedTB.structured_traceback(\n",
      "  File \"Z:\\Anaconda\\envs\\fusa-training\\lib\\site-packages\\IPython\\core\\ultratb.py\", line 1012, in structured_traceback\n",
      "    return VerboseTB.structured_traceback(\n",
      "  File \"Z:\\Anaconda\\envs\\fusa-training\\lib\\site-packages\\IPython\\core\\ultratb.py\", line 865, in structured_traceback\n",
      "    formatted_exception = self.format_exception_as_a_whole(etype, evalue, etb, number_of_lines_of_context,\n",
      "  File \"Z:\\Anaconda\\envs\\fusa-training\\lib\\site-packages\\IPython\\core\\ultratb.py\", line 818, in format_exception_as_a_whole\n",
      "    frames.append(self.format_record(r))\n",
      "  File \"Z:\\Anaconda\\envs\\fusa-training\\lib\\site-packages\\IPython\\core\\ultratb.py\", line 736, in format_record\n",
      "    result += ''.join(_format_traceback_lines(frame_info.lines, Colors, self.has_colors, lvals))\n",
      "  File \"Z:\\Anaconda\\envs\\fusa-training\\lib\\site-packages\\stack_data\\utils.py\", line 144, in cached_property_wrapper\n",
      "    value = obj.__dict__[self.func.__name__] = self.func(obj)\n",
      "  File \"Z:\\Anaconda\\envs\\fusa-training\\lib\\site-packages\\stack_data\\core.py\", line 734, in lines\n",
      "    pieces = self.included_pieces\n",
      "  File \"Z:\\Anaconda\\envs\\fusa-training\\lib\\site-packages\\stack_data\\utils.py\", line 144, in cached_property_wrapper\n",
      "    value = obj.__dict__[self.func.__name__] = self.func(obj)\n",
      "  File \"Z:\\Anaconda\\envs\\fusa-training\\lib\\site-packages\\stack_data\\core.py\", line 681, in included_pieces\n",
      "    pos = scope_pieces.index(self.executing_piece)\n",
      "  File \"Z:\\Anaconda\\envs\\fusa-training\\lib\\site-packages\\stack_data\\utils.py\", line 144, in cached_property_wrapper\n",
      "    value = obj.__dict__[self.func.__name__] = self.func(obj)\n",
      "  File \"Z:\\Anaconda\\envs\\fusa-training\\lib\\site-packages\\stack_data\\core.py\", line 660, in executing_piece\n",
      "    return only(\n",
      "  File \"Z:\\Anaconda\\envs\\fusa-training\\lib\\site-packages\\executing\\executing.py\", line 190, in only\n",
      "    raise NotOneValueFound('Expected one value, found 0')\n",
      "executing.executing.NotOneValueFound: Expected one value, found 0\n"
     ]
    }
   ],
   "source": [
    "#This function will track all audios and add usefull values, as argument need a threshold (duration in seconds)\n",
    "#First, will ask for audios directory (any directory that you want to be classified)\n",
    "#      DIRECTORY FOLDERS NAME WILL BE ALSO DE LABEL OF THE AUDIO PACK!!!!\n",
    "#      You will get a dataframe with cols:\n",
    "#        -> ['filename', 'original wav', 'label', 'station', 'duration', 'power']\n",
    "#\n",
    "#Second, program will ask when finished the classification a folder to export the dataframe\n",
    "#        -> name will be folders name + .txt,   example noise.txt\n",
    "wavs.classifier(0.5)"
   ]
  },
  {
   "cell_type": "code",
   "execution_count": 2,
   "id": "bfbacd90",
   "metadata": {},
   "outputs": [
    {
     "name": "stdout",
     "output_type": "stream",
     "text": [
      "Selection: Z:/Proyectos/fusa-training/Data/Threshold_05/bells.txt\n"
     ]
    }
   ],
   "source": [
    "#Select dataframe generated in wavs.classifier(treshold) (like bells.txt or noise.txt)\n",
    "wave_plot = wp.WavePlot()"
   ]
  },
  {
   "cell_type": "code",
   "execution_count": 3,
   "id": "403163c1",
   "metadata": {},
   "outputs": [
    {
     "name": "stdout",
     "output_type": "stream",
     "text": [
      "Working at: Z:/Proyectos/fusa-training/Audios/bells\n",
      "62df69837a2acbde063ebd61_bells_8672.wav\n",
      "9 / 9\n"
     ]
    },
    {
     "data": {
      "image/png": "[encoded data removed]",
      "text/plain": [
       "<Figure size 1300x800 with 1 Axes>"
      ]
     },
     "metadata": {},
     "output_type": "display_data"
    }
   ],
   "source": [
    "ax = wave_plot.Mean_Power_Spectral_Density()"
   ]
  },
  {
   "cell_type": "code",
   "execution_count": 2,
   "id": "8b006968",
   "metadata": {},
   "outputs": [],
   "source": [
    "#ask for selection of dataframe (generated from wavs.classifier) \n",
    "umaper = wu.Umaper()"
   ]
  },
  {
   "cell_type": "code",
   "execution_count": 3,
   "id": "dc549bc4",
   "metadata": {},
   "outputs": [
    {
     "name": "stdout",
     "output_type": "stream",
     "text": [
      "Working in air_conditioner folder\n",
      "3 / 3\n",
      "Exporting EM2030-00750-2022-05-31T10-15-15-062dB_air_conditioner_25692.npz in Z:/Proyectos/fusa-training/NPZ/air_conditioner\n"
     ]
    }
   ],
   "source": [
    "#Ask for an origin folder (wavs)\n",
    "#Then ask for a destiny folder (npz)\n",
    "\n",
    "umaper.NPZ_generator()"
   ]
  }
 ],
 "metadata": {
  "kernelspec": {
   "display_name": "fusa_training",
   "language": "python",
   "name": "fusa_training"
  },
  "language_info": {
   "codemirror_mode": {
    "name": "ipython",
    "version": 3
   },
   "file_extension": ".py",
   "mimetype": "text/x-python",
   "name": "python",
   "nbconvert_exporter": "python",
   "pygments_lexer": "ipython3",
   "version": "3.8.15"
  }
 },
 "nbformat": 4,
 "nbformat_minor": 5
}
