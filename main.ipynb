{
 "cells": [
  {
   "cell_type": "code",
   "execution_count": 1,
   "id": "23270b57",
   "metadata": {},
   "outputs": [],
   "source": [
    "import matplotlib.pyplot as plt\n",
    "import sys\n",
    "import os\n",
    "\n",
    "modules_route = str(os.getcwd()).replace(\"\\\\\", \"/\")+\"/Modules/\"\n",
    "sys.path.insert(0, modules_route)\n",
    "\n",
    "import waver as wv\n",
    "import WavePlotter as wp\n",
    "import WaveUmaper as wu"
   ]
  },
  {
   "cell_type": "code",
   "execution_count": 3,
   "id": "1d5ac836",
   "metadata": {},
   "outputs": [],
   "source": [
    "colormap = {'capta_002' : 'b',\n",
    "            'capta_003' : 'g', \n",
    "            'capta_004' : 'r', \n",
    "            'campus_miraflores' : 'c', \n",
    "            'mma' : 'y',\n",
    "            'control_acustico' : 'navy', \n",
    "            'vit_global' : 'olive',\n",
    "            'noise' : 'black'}"
   ]
  },
  {
   "cell_type": "code",
   "execution_count": 4,
   "id": "79cfb2e1",
   "metadata": {
    "scrolled": true
   },
   "outputs": [
    {
     "name": "stdout",
     "output_type": "stream",
     "text": [
      "Selection: Z:/Proyectos/fusa-training/Data/metadata.txt\n"
     ]
    },
    {
     "data": {
      "text/html": [
       "<div>\n",
       "<style scoped>\n",
       "    .dataframe tbody tr th:only-of-type {\n",
       "        vertical-align: middle;\n",
       "    }\n",
       "\n",
       "    .dataframe tbody tr th {\n",
       "        vertical-align: top;\n",
       "    }\n",
       "\n",
       "    .dataframe thead th {\n",
       "        text-align: right;\n",
       "    }\n",
       "</style>\n",
       "<table border=\"1\" class=\"dataframe\">\n",
       "  <thead>\n",
       "    <tr style=\"text-align: right;\">\n",
       "      <th></th>\n",
       "      <th>filename</th>\n",
       "      <th>start</th>\n",
       "      <th>end</th>\n",
       "      <th>label</th>\n",
       "      <th>station</th>\n",
       "      <th>labeller</th>\n",
       "    </tr>\n",
       "  </thead>\n",
       "  <tbody>\n",
       "    <tr>\n",
       "      <th>0</th>\n",
       "      <td>1654237560_1654237620.wav</td>\n",
       "      <td>0.338028</td>\n",
       "      <td>4.225351</td>\n",
       "      <td>dog</td>\n",
       "      <td>capta_002</td>\n",
       "      <td>Cristian_C</td>\n",
       "    </tr>\n",
       "    <tr>\n",
       "      <th>1</th>\n",
       "      <td>1654237560_1654237620.wav</td>\n",
       "      <td>5.915491</td>\n",
       "      <td>12.591545</td>\n",
       "      <td>dog</td>\n",
       "      <td>capta_002</td>\n",
       "      <td>Cristian_C</td>\n",
       "    </tr>\n",
       "    <tr>\n",
       "      <th>2</th>\n",
       "      <td>1654237560_1654237620.wav</td>\n",
       "      <td>15.211262</td>\n",
       "      <td>18.422528</td>\n",
       "      <td>dog</td>\n",
       "      <td>capta_002</td>\n",
       "      <td>Cristian_C</td>\n",
       "    </tr>\n",
       "    <tr>\n",
       "      <th>3</th>\n",
       "      <td>1654237560_1654237620.wav</td>\n",
       "      <td>19.436612</td>\n",
       "      <td>28.478862</td>\n",
       "      <td>dog</td>\n",
       "      <td>capta_002</td>\n",
       "      <td>Cristian_C</td>\n",
       "    </tr>\n",
       "    <tr>\n",
       "      <th>4</th>\n",
       "      <td>1654237560_1654237620.wav</td>\n",
       "      <td>31.605622</td>\n",
       "      <td>39.971816</td>\n",
       "      <td>dog</td>\n",
       "      <td>capta_002</td>\n",
       "      <td>Cristian_C</td>\n",
       "    </tr>\n",
       "    <tr>\n",
       "      <th>...</th>\n",
       "      <td>...</td>\n",
       "      <td>...</td>\n",
       "      <td>...</td>\n",
       "      <td>...</td>\n",
       "      <td>...</td>\n",
       "      <td>...</td>\n",
       "    </tr>\n",
       "    <tr>\n",
       "      <th>24386</th>\n",
       "      <td>62f8c4dcff16b865defa12e7.wav</td>\n",
       "      <td>37.364771</td>\n",
       "      <td>39.528433</td>\n",
       "      <td>shouting</td>\n",
       "      <td>capta_002</td>\n",
       "      <td>Esteban_V</td>\n",
       "    </tr>\n",
       "    <tr>\n",
       "      <th>24387</th>\n",
       "      <td>62f8c4dcff16b865defa12e7.wav</td>\n",
       "      <td>45.104022</td>\n",
       "      <td>47.434119</td>\n",
       "      <td>talk</td>\n",
       "      <td>capta_002</td>\n",
       "      <td>Esteban_V</td>\n",
       "    </tr>\n",
       "    <tr>\n",
       "      <th>24388</th>\n",
       "      <td>62f8c4dcff16b865defa12e7.wav</td>\n",
       "      <td>54.018719</td>\n",
       "      <td>59.934078</td>\n",
       "      <td>car_moving</td>\n",
       "      <td>capta_002</td>\n",
       "      <td>Esteban_V</td>\n",
       "    </tr>\n",
       "    <tr>\n",
       "      <th>24389</th>\n",
       "      <td>62f8c4dcff16b865defa12e7.wav</td>\n",
       "      <td>0.000000</td>\n",
       "      <td>7.209613</td>\n",
       "      <td>car_moving</td>\n",
       "      <td>capta_002</td>\n",
       "      <td>Esteban_V</td>\n",
       "    </tr>\n",
       "    <tr>\n",
       "      <th>24390</th>\n",
       "      <td>62f8c4dcff16b865defa12e7.wav</td>\n",
       "      <td>10.253672</td>\n",
       "      <td>10.974633</td>\n",
       "      <td>alarm</td>\n",
       "      <td>capta_002</td>\n",
       "      <td>Esteban_V</td>\n",
       "    </tr>\n",
       "  </tbody>\n",
       "</table>\n",
       "<p>24391 rows × 6 columns</p>\n",
       "</div>"
      ],
      "text/plain": [
       "                           filename      start        end       label  \\\n",
       "0         1654237560_1654237620.wav   0.338028   4.225351         dog   \n",
       "1         1654237560_1654237620.wav   5.915491  12.591545         dog   \n",
       "2         1654237560_1654237620.wav  15.211262  18.422528         dog   \n",
       "3         1654237560_1654237620.wav  19.436612  28.478862         dog   \n",
       "4         1654237560_1654237620.wav  31.605622  39.971816         dog   \n",
       "...                             ...        ...        ...         ...   \n",
       "24386  62f8c4dcff16b865defa12e7.wav  37.364771  39.528433    shouting   \n",
       "24387  62f8c4dcff16b865defa12e7.wav  45.104022  47.434119        talk   \n",
       "24388  62f8c4dcff16b865defa12e7.wav  54.018719  59.934078  car_moving   \n",
       "24389  62f8c4dcff16b865defa12e7.wav   0.000000   7.209613  car_moving   \n",
       "24390  62f8c4dcff16b865defa12e7.wav  10.253672  10.974633       alarm   \n",
       "\n",
       "         station    labeller  \n",
       "0      capta_002  Cristian_C  \n",
       "1      capta_002  Cristian_C  \n",
       "2      capta_002  Cristian_C  \n",
       "3      capta_002  Cristian_C  \n",
       "4      capta_002  Cristian_C  \n",
       "...          ...         ...  \n",
       "24386  capta_002   Esteban_V  \n",
       "24387  capta_002   Esteban_V  \n",
       "24388  capta_002   Esteban_V  \n",
       "24389  capta_002   Esteban_V  \n",
       "24390  capta_002   Esteban_V  \n",
       "\n",
       "[24391 rows x 6 columns]"
      ]
     },
     "execution_count": 4,
     "metadata": {},
     "output_type": "execute_result"
    }
   ],
   "source": [
    "#Create a class Wavs, will ask for a dataframe in txt forman with 'space' separation\n",
    "wavs = wv.Wavs()\n",
    "wavs.metadata"
   ]
  },
  {
   "cell_type": "code",
   "execution_count": 7,
   "id": "bfbacd90",
   "metadata": {},
   "outputs": [
    {
     "name": "stdout",
     "output_type": "stream",
     "text": [
      "Selection: Z:/Proyectos/fusa-training/Data/Threshold_05/braking.txt\n"
     ]
    }
   ],
   "source": [
    "#Select dataframe generated in wavs.classifier(treshold) (like bells.txt or noise.txt)\n",
    "# bells = wp.WavePlot()\n",
    "# air_conditioner  = wp.WavePlot()\n",
    "# cutting = wp.WavePlot()\n",
    "# music = wp.WavePlot()\n",
    "braking = wp.WavePlot()"
   ]
  },
  {
   "cell_type": "code",
   "execution_count": 8,
   "id": "403163c1",
   "metadata": {},
   "outputs": [
    {
     "name": "stdout",
     "output_type": "stream",
     "text": [
      "Working at: Z:/Proyectos/fusa-training/Audios/braking\n",
      "ERUIDO2022_20211219010627_braking_36531.wav\n",
      "222 / 222\n",
      "capta_002\n"
     ]
    },
    {
     "name": "stderr",
     "output_type": "stream",
     "text": [
      "Z:\\Anaconda\\envs\\fusa-training\\lib\\site-packages\\numpy\\core\\_methods.py:164: VisibleDeprecationWarning: Creating an ndarray from ragged nested sequences (which is a list-or-tuple of lists-or-tuples-or ndarrays with different lengths or shapes) is deprecated. If you meant to do this, you must specify 'dtype=object' when creating the ndarray.\n",
      "  arr = asanyarray(a)\n"
     ]
    },
    {
     "data": {
      "image/png": "[encoded data removed]",
      "text/plain": [
       "<Figure size 1300x800 with 1 Axes>"
      ]
     },
     "metadata": {},
     "output_type": "display_data"
    }
   ],
   "source": [
    "# fig, ax = plt.subplots()\n",
    "# ax1 = bells.Mean_Power_Spectral_Density(color = colormap)\n",
    "# ax2 = air_conditioner.Mean_Power_Spectral_Density(color = colormap)\n",
    "# ax3 = cutting.Mean_Power_Spectral_Density(color = colormap)\n",
    "# ax4 = music.Mean_Power_Spectral_Density(color = colormap)\n",
    "ax5 = braking.Mean_Power_Spectral_Density(color = colormap)"
   ]
  },
  {
   "cell_type": "code",
   "execution_count": 2,
   "id": "8b006968",
   "metadata": {},
   "outputs": [],
   "source": [
    "#ask for selection of dataframe (generated from wavs.classifier) \n",
    "umaper = wu.Umaper()"
   ]
  },
  {
   "cell_type": "code",
   "execution_count": 3,
   "id": "dc549bc4",
   "metadata": {},
   "outputs": [
    {
     "name": "stdout",
     "output_type": "stream",
     "text": [
      "Working in air_conditioner folder\n",
      "3 / 3\n",
      "Exporting EM2030-00750-2022-05-31T10-15-15-062dB_air_conditioner_25692.npz in Z:/Proyectos/fusa-training/NPZ/air_conditioner\n"
     ]
    }
   ],
   "source": [
    "#Ask for an origin folder (wavs)\n",
    "#Then ask for a destiny folder (npz)\n",
    "\n",
    "umaper.NPZ_generator()"
   ]
  }
 ],
 "metadata": {
  "kernelspec": {
   "display_name": "fusa_training",
   "language": "python",
   "name": "fusa_training"
  },
  "language_info": {
   "codemirror_mode": {
    "name": "ipython",
    "version": 3
   },
   "file_extension": ".py",
   "mimetype": "text/x-python",
   "name": "python",
   "nbconvert_exporter": "python",
   "pygments_lexer": "ipython3",
   "version": "3.8.15"
  }
 },
 "nbformat": 4,
 "nbformat_minor": 5
}
